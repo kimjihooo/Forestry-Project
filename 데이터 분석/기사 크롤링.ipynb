{
 "cells": [
  {
   "cell_type": "code",
   "execution_count": null,
   "id": "87d2d101",
   "metadata": {},
   "outputs": [],
   "source": [
    "#!pip install --user Jpype1==1.2.0 "
   ]
  },
  {
   "cell_type": "code",
   "execution_count": null,
   "id": "1c86be95",
   "metadata": {},
   "outputs": [],
   "source": [
    "#!pip install konlpy"
   ]
  },
  {
   "cell_type": "code",
   "execution_count": null,
   "id": "4e78cab5",
   "metadata": {},
   "outputs": [],
   "source": [
    "#!pip install wordcloud"
   ]
  },
  {
   "cell_type": "code",
   "execution_count": null,
   "id": "ec27bffd",
   "metadata": {},
   "outputs": [],
   "source": [
    "# import lxml.html\n",
    "# import requests\n",
    "# import os\n",
    "from time import sleep\n",
    "import random\n",
    "from selenium.webdriver import Chrome\n",
    "import matplotlib.pyplot as plt\n",
    "from collections import Counter"
   ]
  },
  {
   "cell_type": "code",
   "execution_count": null,
   "id": "30ffb9fb",
   "metadata": {},
   "outputs": [],
   "source": [
    "# import nltk \n",
    "# from konlpy.tag import Kkma\n",
    "from konlpy.tag import Okt\n",
    "from wordcloud import WordCloud"
   ]
  },
  {
   "cell_type": "markdown",
   "id": "ac0171c6",
   "metadata": {},
   "source": [
    "## 검색어 도시숲"
   ]
  },
  {
   "cell_type": "code",
   "execution_count": null,
   "id": "f5bbf704",
   "metadata": {},
   "outputs": [],
   "source": [
    "# url = \"https://search.naver.com/search.naver?where=news&sm=tab_pge&query=%EC%88%B2&sort=0&photo=0&field=0&pd=0&ds=&de=&cluster_rank=60&mynews=0&office_type=0&office_section_code=0&news_office_checked=&nso=so:r,p:all,a:all&start=1\"\n",
    "url = 'https://search.naver.com/search.naver?where=news&sm=tab_jum&query=%EC%82%B0%EB%A6%BC%EA%B5%90%EC%9C%A1'\n",
    "browser = Chrome()\n",
    "browser.get(url)\n",
    "# news_area = browser.find_elements_by_xpath(\"//div[@class='news_area']/a\")\n",
    "# title = []\n",
    "# for i in news_area:\n",
    "#     title.append(i.text)\n",
    "# title = \"\".join(title)\n",
    "# filtered_title = title.replace('.', ' ').replace('\"',' ').replace(',',' ').replace(\"'\",\" \").replace('·', ' ').replace('=',' ').replace('\\n',' ')"
   ]
  },
  {
   "cell_type": "code",
   "execution_count": null,
   "id": "944af7df",
   "metadata": {},
   "outputs": [],
   "source": [
    "title = []\n",
    "for i in range(100):\n",
    "    news_area = browser.find_elements_by_xpath(\"//div[@class='news_area']/a\")\n",
    "    for i in news_area:\n",
    "        title.append(i.text)\n",
    "    browser.find_element_by_class_name('btn_next').click()\n",
    "    sleep(random.uniform(2,4))\n",
    "title = \"\".join(title)\n",
    "filtered_title = title.replace('.', ' ').replace('\"',' ').replace(',',' ').replace(\"'\",\" \").replace('·', ' ').replace('=',' ').replace('\\n',' ')"
   ]
  },
  {
   "cell_type": "code",
   "execution_count": null,
   "id": "c1c01256",
   "metadata": {},
   "outputs": [],
   "source": [
    "okt = Okt()\n",
    "\n",
    "word_kind = []\n",
    "word_kind = okt.pos(filtered_title) \n",
    "\n",
    "noun_adj = []\n",
    "for word, kind in word_kind:\n",
    "    if kind in ['Noun' , 'Adjective']: \n",
    "        noun_adj.append(word)\n",
    "\n",
    "counts = Counter(noun_adj)\n",
    "data = counts.most_common(30)"
   ]
  },
  {
   "cell_type": "code",
   "execution_count": null,
   "id": "acea94ad",
   "metadata": {},
   "outputs": [],
   "source": [
    "wordcloud = WordCloud().generate(filtered_title)\n",
    "\n",
    "font = 'C:/Users/guseh/AppData/Local/Microsoft/Windows/Fonts/NanumSquareL.ttf'\n",
    "wc = WordCloud(font_path=font, background_color=\"black\", width=1000, height=1000,max_words=50, max_font_size=300)\n",
    "wc = wc.generate_from_frequencies(dict(data))\n",
    "wc.to_file('test.jpg')\n",
    "plt.figure(figsize=(10,10))\n",
    "plt.imshow(wc, interpolation='lanczos')\n",
    "plt.axis('off')\n",
    "plt.show()"
   ]
  },
  {
   "cell_type": "markdown",
   "id": "be1d2a9d",
   "metadata": {},
   "source": [
    "## 검색어 숲세권"
   ]
  },
  {
   "cell_type": "code",
   "execution_count": null,
   "id": "5cc0f470",
   "metadata": {},
   "outputs": [],
   "source": [
    "url = \"https://search.naver.com/search.naver?sm=tab_hty.top&where=news&query=%EC%88%B2+%EA%B5%90%EC%9C%A1&oquery=%EC%82%B0%EB%A6%BC%EA%B5%90%EC%9C%A1&tqi=hfcPMwprvxZssZkvSk0sssssseV-361984\"\n",
    "browser = Chrome()\n",
    "browser.get(url)\n",
    "\n",
    "title = []\n",
    "for i in range(100):\n",
    "    news_area = browser.find_elements_by_xpath(\"//div[@class='news_area']/a\")\n",
    "    for i in news_area:\n",
    "        title.append(i.text)\n",
    "    browser.find_element_by_class_name('btn_next').click()\n",
    "    sleep(random.uniform(2,4))\n",
    "title = \"\".join(title)\n",
    "filtered_title = title.replace('.', ' ').replace('\"',' ').replace(',',' ').replace(\"'\",\" \").replace('·', ' ').replace('=',' ').replace('\\n',' ')"
   ]
  },
  {
   "cell_type": "code",
   "execution_count": null,
   "id": "e49f4c04",
   "metadata": {},
   "outputs": [],
   "source": [
    "okt = Okt()\n",
    "\n",
    "word_kind = []\n",
    "word_kind = okt.pos(filtered_title) \n",
    "\n",
    "noun_adj = []\n",
    "for word, kind in word_kind:\n",
    "    if kind in ['Noun' , 'Adjective']: \n",
    "        noun_adj.append(word)\n",
    "\n",
    "counts = Counter(noun_adj)\n",
    "data = counts.most_common(30)\n",
    "\n",
    "wordcloud = WordCloud().generate(filtered_title)\n",
    "\n",
    "font = 'C:/Users/guseh/AppData/Local/Microsoft/Windows/Fonts/NanumSquareL.ttf'\n",
    "wc = WordCloud(font_path=font, background_color=\"black\", width=1000, height=1000,max_words=50, max_font_size=300)\n",
    "wc = wc.generate_from_frequencies(dict(data))\n",
    "wc.to_file('test1.jpg')\n",
    "plt.figure(figsize=(10,10))\n",
    "plt.imshow(wc, interpolation='lanczos')\n",
    "plt.axis('off')\n",
    "plt.show()"
   ]
  }
 ],
 "metadata": {
  "kernelspec": {
   "display_name": "Python 3",
   "language": "python",
   "name": "python3"
  },
  "language_info": {
   "codemirror_mode": {
    "name": "ipython",
    "version": 3
   },
   "file_extension": ".py",
   "mimetype": "text/x-python",
   "name": "python",
   "nbconvert_exporter": "python",
   "pygments_lexer": "ipython3",
   "version": "3.8.8"
  }
 },
 "nbformat": 4,
 "nbformat_minor": 5
}
